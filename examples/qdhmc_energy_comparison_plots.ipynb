{
 "cells": [
  {
   "cell_type": "code",
   "execution_count": 1,
   "id": "f7ecad9f",
   "metadata": {},
   "outputs": [
    {
     "name": "stderr",
     "output_type": "stream",
     "text": [
      "2023-07-13 21:08:00.140887: W tensorflow/stream_executor/platform/default/dso_loader.cc:64] Could not load dynamic library 'libcudart.so.11.0'; dlerror: libcudart.so.11.0: cannot open shared object file: No such file or directory; LD_LIBRARY_PATH: /usr/local/gromacs/lib\n",
      "2023-07-13 21:08:00.140949: I tensorflow/stream_executor/cuda/cudart_stub.cc:29] Ignore above cudart dlerror if you do not have a GPU set up on your machine.\n",
      "2023-07-13 21:08:03.326166: W tensorflow/stream_executor/platform/default/dso_loader.cc:64] Could not load dynamic library 'libcuda.so.1'; dlerror: libcuda.so.1: cannot open shared object file: No such file or directory; LD_LIBRARY_PATH: /usr/local/gromacs/lib\n",
      "2023-07-13 21:08:03.326214: W tensorflow/stream_executor/cuda/cuda_driver.cc:269] failed call to cuInit: UNKNOWN ERROR (303)\n",
      "2023-07-13 21:08:03.326261: I tensorflow/stream_executor/cuda/cuda_diagnostics.cc:156] kernel driver does not appear to be running on this host (LAPTOP-HBHOF55J): /proc/driver/nvidia/version does not exist\n",
      "2023-07-13 21:08:03.326609: I tensorflow/core/platform/cpu_feature_guard.cc:151] This TensorFlow binary is optimized with oneAPI Deep Neural Network Library (oneDNN) to use the following CPU instructions in performance-critical operations:  AVX2 AVX512F FMA\n",
      "To enable them in other operations, rebuild TensorFlow with the appropriate compiler flags.\n"
     ]
    }
   ],
   "source": [
    "from qdhmc import HMC\n",
    "import tensorflow as tf\n",
    "import numpy as np\n",
    "import matplotlib.pyplot as plt"
   ]
  },
  {
   "cell_type": "code",
   "execution_count": 2,
   "id": "72753e73",
   "metadata": {},
   "outputs": [],
   "source": [
    "def guassian_log_prob(n, temp):\n",
    "    def lp(x):\n",
    "        return np.sum([-1 * x[i] for i in range(n)] + [-1 * x[i]**2 for i in range(n)])/temp\n",
    "    return lp\n",
    "\n",
    "def sphere_log_prob(n, temp):\n",
    "    def lp(x):\n",
    "        return -1 * np.sum([x[i]**2 for i in range(n)])/temp\n",
    "    return lp\n",
    "\n",
    "def double_well_log_prob(temp):\n",
    "    def lp(x):\n",
    "        return (-1*(x[0]**4 - 4 * x[0]**2 + x[1]**2) - 0.5 * x[0])/temp\n",
    "    return lp\n",
    "\n",
    "def rosenbrock(n, temp):\n",
    "    def lp(x):\n",
    "        return -1 * np.sum([10 * (x[i + 1] - x[i])**2 + (1 - x[i])**2 for i in range(n-1)])/temp\n",
    "    return lp\n",
    "\n",
    "def styblinski_tang(n, temp):\n",
    "    def lp(x):\n",
    "        return -1/2 * np.sum([x[i]**4 - 16 * x[i]**2 + 5 * x[i] for i in range(n)])/temp\n",
    "    return lp"
   ]
  },
  {
   "cell_type": "code",
   "execution_count": 3,
   "id": "481183e1",
   "metadata": {},
   "outputs": [],
   "source": [
    "def run_exp(t, rep, precision, n, opt_len, log_prob, experiments, step_size):\n",
    "    classical = []\n",
    "    quantum = []\n",
    "\n",
    "    test_c = HMC(log_prob, kernel_type='classical', num_vars=n, precision=precision, step_size=step_size)\n",
    "    test_q = HMC(log_prob, kernel_type='quantum', precision=precision, r=rep, num_vars=n, t=t)\n",
    "    \n",
    "    for e in range(experiments):\n",
    "        if e % 8 == 0:\n",
    "            print(e)\n",
    "        init_state = tf.random.uniform(shape=[n], minval=-tf.math.sqrt(2 * np.pi * 2 ** precision) / 4, \\\n",
    "                                        maxval=tf.math.sqrt(2 * np.pi * 2 ** precision) / 4)\n",
    "        \n",
    "        init = log_prob(init_state)\n",
    "\n",
    "        s, m, std, a, rs = test_c.run_hmc(opt_len[0], 0, init_state=init_state)\n",
    "        s_q, m_q, std_q, a_q, rs_q = test_q.run_hmc(opt_len[1], 0, init_state=init_state)\n",
    "\n",
    "        classical.append(rs.target_log_prob.numpy().tolist())\n",
    "        classical[-1].insert(0, init)\n",
    "        quantum.append(rs_q.target_log_prob.numpy().tolist())\n",
    "        quantum[-1].insert(0, init)\n",
    "        \n",
    "    return classical, quantum"
   ]
  },
  {
   "cell_type": "code",
   "execution_count": 4,
   "id": "a1ff2694",
   "metadata": {},
   "outputs": [],
   "source": [
    "def plot_exp(c, q):\n",
    "    cs_mean = np.mean(c, axis=0)\n",
    "    qs_mean = np.mean(q, axis=0)\n",
    "\n",
    "    x_c = [i for i in range(len(cs_mean))]\n",
    "    x_q = [i for i in range(len(qs_mean))]\n",
    "\n",
    "    cs_ci = 1.96 * np.std(c, axis=0)/np.sqrt(100)\n",
    "    qs_ci = 1.96 * np.std(q, axis=0)/np.sqrt(100)\n",
    "\n",
    "    fig, ax = plt.subplots(figsize=(14, 6))\n",
    "\n",
    "    ax.plot(cs_mean, label='Classical')\n",
    "    ax.plot(qs_mean, label='Quantum')\n",
    "\n",
    "    ax.fill_between(x_c, (cs_mean - cs_ci), (cs_mean + cs_ci), color='b', alpha=.1)\n",
    "    ax.fill_between(x_q, (qs_mean - qs_ci), (qs_mean + qs_ci), color='orange', alpha=.1)\n",
    "\n",
    "    plt.xlabel(\"Iteration\")\n",
    "    plt.ylabel(\"Energy\")\n",
    "    plt.legend()\n",
    "    plt.show()"
   ]
  },
  {
   "cell_type": "code",
   "execution_count": 5,
   "id": "f45d3efd",
   "metadata": {},
   "outputs": [],
   "source": [
    "# HYPERPARAMETERS\n",
    "experiments = 50\n",
    "cold = 0.01\n",
    "warm = 0.1"
   ]
  },
  {
   "cell_type": "markdown",
   "id": "910f422a",
   "metadata": {},
   "source": [
    "# Guassian"
   ]
  },
  {
   "cell_type": "code",
   "execution_count": 6,
   "id": "ab64f95c",
   "metadata": {},
   "outputs": [],
   "source": [
    "step_size = 0.314813295575933\n",
    "trotter_time = 1.2669737917875925\n",
    "trotter_steps = 6\n",
    "precision = 6\n",
    "#opt_len = [1000, 1000] #c, q\n",
    "opt_len = [10000, 10000] #c, q"
   ]
  },
  {
   "cell_type": "code",
   "execution_count": null,
   "id": "15aa0f76",
   "metadata": {},
   "outputs": [
    {
     "name": "stdout",
     "output_type": "stream",
     "text": [
      "0\n",
      "WARNING:tensorflow:5 out of the last 5 calls to <function HMC.run_hmc.<locals>.run_chain at 0x7f148d932670> triggered tf.function retracing. Tracing is expensive and the excessive number of tracings could be due to (1) creating @tf.function repeatedly in a loop, (2) passing tensors with different shapes, (3) passing Python objects instead of tensors. For (1), please define your @tf.function outside of the loop. For (2), @tf.function has experimental_relax_shapes=True option that relaxes argument shapes that can avoid unnecessary retracing. For (3), please refer to https://www.tensorflow.org/guide/function#controlling_retracing and https://www.tensorflow.org/api_docs/python/tf/function for  more details.\n",
      "WARNING:tensorflow:6 out of the last 6 calls to <function HMC.run_hmc.<locals>.run_chain at 0x7f148d932670> triggered tf.function retracing. Tracing is expensive and the excessive number of tracings could be due to (1) creating @tf.function repeatedly in a loop, (2) passing tensors with different shapes, (3) passing Python objects instead of tensors. For (1), please define your @tf.function outside of the loop. For (2), @tf.function has experimental_relax_shapes=True option that relaxes argument shapes that can avoid unnecessary retracing. For (3), please refer to https://www.tensorflow.org/guide/function#controlling_retracing and https://www.tensorflow.org/api_docs/python/tf/function for  more details.\n"
     ]
    }
   ],
   "source": [
    "num_variables = 2\n",
    "temp = warm\n",
    "log_prob = guassian_log_prob(num_variables, temp)\n",
    "\n",
    "classical_guas, quantum_guas = run_exp(trotter_time, trotter_steps, precision, num_variables, opt_len, log_prob, experiments, step_size)"
   ]
  },
  {
   "cell_type": "code",
   "execution_count": null,
   "id": "3a2a6a34",
   "metadata": {},
   "outputs": [],
   "source": [
    "#plot_exp(classical_guas, quantum_guas)"
   ]
  },
  {
   "cell_type": "code",
   "execution_count": null,
   "id": "1cf19ce7",
   "metadata": {},
   "outputs": [],
   "source": [
    "step_size = 0.05859189464811009\n",
    "trotter_time = 0.7173000492849074\n",
    "trotter_steps = 2\n",
    "precision = 6\n",
    "#opt_len = [1000, 1000] #c, q\n",
    "opt_len = [10000, 10000] #c, q"
   ]
  },
  {
   "cell_type": "code",
   "execution_count": null,
   "id": "8e666a55",
   "metadata": {},
   "outputs": [],
   "source": [
    "num_variables = 2\n",
    "temp = cold\n",
    "\n",
    "log_prob = guassian_log_prob(num_variables, temp)\n",
    "\n",
    "classical_guas_t, quantum_guas_t = run_exp(trotter_time, trotter_steps, precision, num_variables, opt_len, log_prob, experiments, step_size)"
   ]
  },
  {
   "cell_type": "code",
   "execution_count": null,
   "id": "b1daa9d0",
   "metadata": {},
   "outputs": [],
   "source": [
    "#plot_exp(classical_guas_t, quantum_guas_t)"
   ]
  },
  {
   "cell_type": "markdown",
   "id": "29b9cdca",
   "metadata": {},
   "source": [
    "# Rosenbrock"
   ]
  },
  {
   "cell_type": "code",
   "execution_count": null,
   "id": "233d2643",
   "metadata": {},
   "outputs": [],
   "source": [
    "step_size = 0.01905526527796041\n",
    "trotter_time = 1.9015627356839464\n",
    "trotter_steps = 3\n",
    "precision = 2\n",
    "#opt_len = [1000, 1000] #c, q\n",
    "opt_len = [10000, 10000] #c, q"
   ]
  },
  {
   "cell_type": "code",
   "execution_count": null,
   "id": "af782824",
   "metadata": {},
   "outputs": [],
   "source": [
    "num_variables = 3\n",
    "temp = warm\n",
    "log_prob = rosenbrock(num_variables, temp)\n",
    "\n",
    "classical_ros, quantum_ros = run_exp(trotter_time, trotter_steps, precision, num_variables, opt_len, log_prob, experiments, step_size)"
   ]
  },
  {
   "cell_type": "code",
   "execution_count": null,
   "id": "7979c7f6",
   "metadata": {},
   "outputs": [],
   "source": [
    "#plot_exp(classical_ros, quantum_ros)"
   ]
  },
  {
   "cell_type": "code",
   "execution_count": null,
   "id": "cc67e84e",
   "metadata": {},
   "outputs": [],
   "source": [
    "step_size = 0.026\n",
    "trotter_time = 0.5832768163008537\n",
    "trotter_steps = 7\n",
    "precision = 3\n",
    "#opt_len = [1000, 1000] #c, q\n",
    "opt_len = [10000, 10000] #c, q"
   ]
  },
  {
   "cell_type": "code",
   "execution_count": null,
   "id": "b130ad8f",
   "metadata": {},
   "outputs": [],
   "source": [
    "num_variables = 3\n",
    "temp = cold\n",
    "log_prob = rosenbrock(num_variables, temp)\n",
    "\n",
    "classical_ros_t, quantum_ros_t = run_exp(trotter_time, trotter_steps, precision, num_variables, opt_len, log_prob, experiments, step_size)\n"
   ]
  },
  {
   "cell_type": "code",
   "execution_count": null,
   "id": "21a617cc",
   "metadata": {},
   "outputs": [],
   "source": [
    "#plot_exp(classical_ros_t, quantum_ros_t)"
   ]
  },
  {
   "cell_type": "markdown",
   "id": "960247a3",
   "metadata": {},
   "source": [
    "# Double well"
   ]
  },
  {
   "cell_type": "code",
   "execution_count": null,
   "id": "24eada24",
   "metadata": {},
   "outputs": [],
   "source": [
    "step_size = 0.07948701832532529\n",
    "trotter_time = 1.8499924840755377\n",
    "trotter_steps = 9\n",
    "precision = 2\n",
    "#opt_len = [1000, 1000] #c, q\n",
    "opt_len = [10000, 10000] #c, q"
   ]
  },
  {
   "cell_type": "code",
   "execution_count": null,
   "id": "d007bb7c",
   "metadata": {},
   "outputs": [],
   "source": [
    "num_variables = 2\n",
    "temp = warm\n",
    "log_prob = double_well_log_prob(temp)\n",
    "\n",
    "classical_dw, quantum_dw = run_exp(trotter_time, trotter_steps, precision, num_variables, opt_len, log_prob, experiments, step_size)"
   ]
  },
  {
   "cell_type": "code",
   "execution_count": null,
   "id": "b87128fe",
   "metadata": {},
   "outputs": [],
   "source": [
    "#plot_exp(classical_dw, quantum_dw)"
   ]
  },
  {
   "cell_type": "code",
   "execution_count": null,
   "id": "a17c2b43",
   "metadata": {},
   "outputs": [],
   "source": [
    "step_size = 0.7489681325184813\n",
    "trotter_time = 1.6141954191198948\n",
    "trotter_steps = 3\n",
    "precision = 5\n",
    "#opt_len = [1000, 1000] #c, q\n",
    "opt_len = [10000, 10000] #c, q"
   ]
  },
  {
   "cell_type": "code",
   "execution_count": null,
   "id": "2b327a73",
   "metadata": {},
   "outputs": [],
   "source": [
    "num_variables = 2\n",
    "temp = cold\n",
    "log_prob = double_well_log_prob(temp)\n",
    "\n",
    "classical_dw_t, quantum_dw_t = run_exp(trotter_time, trotter_steps, precision, num_variables, opt_len, log_prob, experiments, step_size)"
   ]
  },
  {
   "cell_type": "markdown",
   "id": "be0c66fb",
   "metadata": {},
   "source": [
    "# Styblinski Tang"
   ]
  },
  {
   "cell_type": "code",
   "execution_count": null,
   "id": "5eb6504d",
   "metadata": {},
   "outputs": [],
   "source": [
    "step_size = 0.008153617240715425\n",
    "trotter_time = 1.0171715451360417\n",
    "trotter_steps = 10\n",
    "precision = 2\n",
    "#opt_len = [1000, 1000] #c, q\n",
    "opt_len = [10000, 10000] #c, q"
   ]
  },
  {
   "cell_type": "code",
   "execution_count": null,
   "id": "fb4a6bae",
   "metadata": {},
   "outputs": [],
   "source": [
    "num_variables = 3\n",
    "temp = warm\n",
    "log_prob = styblinski_tang(num_variables, temp)\n",
    "\n",
    "classical_st, quantum_st = run_exp(trotter_time, trotter_steps, precision, num_variables, opt_len, log_prob, experiments, step_size)"
   ]
  },
  {
   "cell_type": "code",
   "execution_count": null,
   "id": "47329a38",
   "metadata": {},
   "outputs": [],
   "source": [
    "#plot_exp(classical_st, quantum_st)"
   ]
  },
  {
   "cell_type": "code",
   "execution_count": null,
   "id": "e9cb3870",
   "metadata": {},
   "outputs": [],
   "source": [
    "step_size = 0.016209118753477303\n",
    "trotter_time = 1.1957011622141374\n",
    "trotter_steps = 7\n",
    "precision = 2\n",
    "#opt_len = [1000, 1000] #c, q\n",
    "opt_len = [10000, 10000] #c, q"
   ]
  },
  {
   "cell_type": "code",
   "execution_count": null,
   "id": "52789db5",
   "metadata": {},
   "outputs": [],
   "source": [
    "num_variables = 3\n",
    "temp = cold\n",
    "log_prob = styblinski_tang(num_variables, temp)\n",
    "\n",
    "classical_st_t, quantum_st_t = run_exp(trotter_time, trotter_steps, precision, num_variables, opt_len, log_prob, experiments, step_size)"
   ]
  },
  {
   "cell_type": "code",
   "execution_count": null,
   "id": "32e8dc29",
   "metadata": {},
   "outputs": [],
   "source": [
    "def plot_sub_fig(c, q, ax, t=1):\n",
    "    cs_mean = -np.mean(c, axis=0) * t\n",
    "    qs_mean = -np.mean(q, axis=0) * t\n",
    "\n",
    "    x_c = [i for i in range(len(cs_mean))]\n",
    "    x_q = [i for i in range(len(qs_mean))]\n",
    "\n",
    "    cs_ci = 1.96 * np.std(c, axis=0)/np.sqrt(100) * t \n",
    "    qs_ci = 1.96 * np.std(q, axis=0)/np.sqrt(100) * t\n",
    "\n",
    "    ax.plot(cs_mean, label='Classical')\n",
    "    ax.plot(qs_mean, label='Quantum')\n",
    "\n",
    "    ax.fill_between(x_c, (cs_mean - cs_ci), (cs_mean + cs_ci), color='b', alpha=.1)\n",
    "    ax.fill_between(x_q, (qs_mean - qs_ci), (qs_mean + qs_ci), color='orange', alpha=.1)\n",
    "    \n",
    "    if log:\n",
    "        ax.set_yscale('symlog')\n",
    "    \n",
    "    #plt.xlabel(\"Iteration\")\n",
    "    #plt.ylabel(\"Energy\")"
   ]
  },
  {
   "cell_type": "code",
   "execution_count": null,
   "id": "61f1aef1",
   "metadata": {},
   "outputs": [],
   "source": [
    "# export graphs as pdf or vector plot\n",
    "fig, axs = plt.subplots(2, 4, figsize=(10, 4))\n",
    "\n",
    "log = False\n",
    "\n",
    "plot_sub_fig(classical_guas, quantum_guas, axs[0, 0], warm)\n",
    "plot_sub_fig(classical_guas_t, quantum_guas_t, axs[1, 0], cold)\n",
    "\n",
    "plot_sub_fig(classical_ros, quantum_ros, axs[0, 1], warm)\n",
    "plot_sub_fig(classical_ros_t, quantum_ros_t, axs[1, 1], cold)\n",
    "\n",
    "plot_sub_fig(classical_dw, quantum_dw, axs[0, 2], warm)\n",
    "plot_sub_fig(classical_dw_t, quantum_dw_t, axs[1, 2], cold)\n",
    "\n",
    "plot_sub_fig(classical_st, quantum_st, axs[0, 3], warm)\n",
    "plot_sub_fig(classical_st_t, quantum_st_t, axs[1, 3], cold)\n",
    "\n",
    "axs[0, 0].legend(loc=\"upper center\")\n",
    "axs[0, 0].set_ylabel(\"Energy T = 0.1\")\n",
    "axs[1, 0].set_ylabel(\"Energy T = 0.01\")\n",
    "axs[0, 0].set_title('2D Gaussian')\n",
    "axs[0, 1].set_title('3D Rosenbrock')\n",
    "axs[0, 2].set_title('2D Double Well')\n",
    "axs[0, 3].set_title('3D Styblinski–Tang')\n",
    "\n",
    "\n",
    "plot_margin = 110\n",
    "\n",
    "\n",
    "axs[0, 0].tick_params(axis=\"y\",direction=\"in\", pad=-20)\n",
    "axs[0, 1].tick_params(axis=\"y\",direction=\"in\", pad=-20)\n",
    "axs[0, 2].tick_params(axis=\"y\",direction=\"in\", pad=-30)\n",
    "axs[0, 3].tick_params(axis=\"y\",direction=\"in\", pad=-30)\n",
    "\n",
    "axs[1, 0].tick_params(axis=\"y\",direction=\"in\", pad=-20)\n",
    "axs[1, 1].tick_params(axis=\"y\",direction=\"in\", pad=-20)\n",
    "axs[1, 2].tick_params(axis=\"y\",direction=\"in\", pad=-20)\n",
    "axs[1, 3].tick_params(axis=\"y\",direction=\"in\", pad=-30)\n",
    "\n",
    "for ax in axs[0]:\n",
    "    ax.set_xticks([])\n",
    "    #ax.margins(x = 0.2)\n",
    "    ax.set_xscale('log')\n",
    "    \n",
    "for ax in axs[1]:\n",
    "    #ax.set_xticks([0, 200, 400, 600, 800, 1000])\n",
    "    ax.set_xscale('log')\n",
    "\n",
    "\n",
    "for ax in axs:\n",
    "    for a in ax:\n",
    "        #a.tick_params(axis=\"y\", direction=\"in\", pad=-25)\n",
    "        a.yaxis.tick_right()\n",
    "        x0, x1, y0, y1 = a.axis()\n",
    "        a.axis((x0,\n",
    "          x1 + plot_margin,\n",
    "          y0,\n",
    "          y1))  \n",
    "\n",
    "plt.subplots_adjust(bottom=0.1, \n",
    "                    top=0.9, \n",
    "                    wspace=0.0,\n",
    "                    hspace=0.0)\n",
    "\n",
    "plt.savefig(\"opt.svg\", format = 'svg', dpi=300, bbox_inches='tight')\n",
    "plt.show()\n"
   ]
  },
  {
   "cell_type": "code",
   "execution_count": null,
   "id": "67c097e6",
   "metadata": {},
   "outputs": [],
   "source": [
    "fig, axs = plt.subplots(1, 4, figsize=(16, 6))\n",
    "\n",
    "plot_sub_fig(classical_guas_t, quantum_guas_t, axs[0])\n",
    "\n",
    "plot_sub_fig(classical_ros_t, quantum_ros_t, axs[1])\n",
    "\n",
    "plot_sub_fig(classical_dw_t, quantum_dw_t, axs[2])\n",
    "\n",
    "plot_sub_fig(classical_st_t, quantum_st_t, axs[3])\n",
    "\n",
    "axs[0].legend()\n",
    "axs[0].set_ylabel(\"Energy T = 0.01\")\n",
    "axs[0].set_title('2D Gaussian')\n",
    "axs[1].set_title('3D Rosenbrock')\n",
    "axs[2].set_title('2D Double Well')\n",
    "axs[3].set_title('3D Styblinski–Tang')\n",
    "\n",
    "for ax in axs:\n",
    "    ax.set_xscale('log')\n",
    "\n",
    "plt.show()"
   ]
  },
  {
   "cell_type": "code",
   "execution_count": null,
   "id": "2f2221b2",
   "metadata": {},
   "outputs": [],
   "source": []
  }
 ],
 "metadata": {
  "kernelspec": {
   "display_name": "Python 3 (ipykernel)",
   "language": "python",
   "name": "python3"
  },
  "language_info": {
   "codemirror_mode": {
    "name": "ipython",
    "version": 3
   },
   "file_extension": ".py",
   "mimetype": "text/x-python",
   "name": "python",
   "nbconvert_exporter": "python",
   "pygments_lexer": "ipython3",
   "version": "3.9.7"
  }
 },
 "nbformat": 4,
 "nbformat_minor": 5
}
