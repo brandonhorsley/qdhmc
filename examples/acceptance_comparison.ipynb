{
 "cells": [
  {
   "cell_type": "code",
   "execution_count": 1,
   "id": "3ee34865",
   "metadata": {},
   "outputs": [
    {
     "name": "stderr",
     "output_type": "stream",
     "text": [
      "2023-07-13 20:55:02.666527: W tensorflow/stream_executor/platform/default/dso_loader.cc:64] Could not load dynamic library 'libcudart.so.11.0'; dlerror: libcudart.so.11.0: cannot open shared object file: No such file or directory; LD_LIBRARY_PATH: /usr/local/gromacs/lib\n",
      "2023-07-13 20:55:02.666581: I tensorflow/stream_executor/cuda/cudart_stub.cc:29] Ignore above cudart dlerror if you do not have a GPU set up on your machine.\n",
      "2023-07-13 20:55:06.766283: W tensorflow/stream_executor/platform/default/dso_loader.cc:64] Could not load dynamic library 'libcuda.so.1'; dlerror: libcuda.so.1: cannot open shared object file: No such file or directory; LD_LIBRARY_PATH: /usr/local/gromacs/lib\n",
      "2023-07-13 20:55:06.766333: W tensorflow/stream_executor/cuda/cuda_driver.cc:269] failed call to cuInit: UNKNOWN ERROR (303)\n",
      "2023-07-13 20:55:06.766366: I tensorflow/stream_executor/cuda/cuda_diagnostics.cc:156] kernel driver does not appear to be running on this host (LAPTOP-HBHOF55J): /proc/driver/nvidia/version does not exist\n",
      "2023-07-13 20:55:06.766690: I tensorflow/core/platform/cpu_feature_guard.cc:151] This TensorFlow binary is optimized with oneAPI Deep Neural Network Library (oneDNN) to use the following CPU instructions in performance-critical operations:  AVX2 AVX512F FMA\n",
      "To enable them in other operations, rebuild TensorFlow with the appropriate compiler flags.\n"
     ]
    }
   ],
   "source": [
    "from qdhmc import HMC\n",
    "import tensorflow as tf\n",
    "import numpy as np\n",
    "import matplotlib.pyplot as plt"
   ]
  },
  {
   "cell_type": "code",
   "execution_count": 2,
   "id": "5da3306f",
   "metadata": {},
   "outputs": [],
   "source": [
    "def guassian_log_prob(n, temp):\n",
    "    def lp(x):\n",
    "        return np.sum([-1 * x[i] for i in range(n)] + [-1 * x[i]**2 for i in range(n)])/temp\n",
    "    return lp\n",
    "\n",
    "def sphere_log_prob(n, temp):\n",
    "    def lp(x):\n",
    "        return -1 * np.sum([x[i]**2 for i in range(n)])/temp\n",
    "    return lp\n",
    "\n",
    "def double_well_log_prob(temp):\n",
    "    def lp(x):\n",
    "        return (-1*(x[0]**4 - 4 * x[0]**2 + x[1]**2) - 0.5 * x[0])/temp\n",
    "    return lp\n",
    "\n",
    "def rosenbrock(n, temp):\n",
    "    def lp(x):\n",
    "        return -1 * np.sum([10 * (x[i + 1] - x[i])**2 + (1 - x[i])**2 for i in range(n-1)])/temp\n",
    "    return lp\n",
    "\n",
    "def styblinski_tang(n, temp):\n",
    "    def lp(x):\n",
    "        return -1/2 * np.sum([x[i]**4 - 16 * x[i]**2 + 5 * x[i] for i in range(n)])/temp\n",
    "    return lp"
   ]
  },
  {
   "cell_type": "code",
   "execution_count": 3,
   "id": "1c2178a2",
   "metadata": {},
   "outputs": [],
   "source": [
    "def run_exp(t, rep, precision, n, log_prob, experiments, step_size):\n",
    "    classical = []\n",
    "    quantum = []\n",
    "\n",
    "    test_c = HMC(log_prob, kernel_type='classical', num_vars=n, precision=precision, step_size=step_size)\n",
    "    test_q = HMC(log_prob, kernel_type='quantum', precision=precision, r=rep, num_vars=n, t=t)\n",
    "    \n",
    "    for e in range(experiments):\n",
    "        init_state = tf.random.uniform(shape=[n], minval=-tf.math.sqrt(2 * np.pi * 2 ** precision) / 2, \\\n",
    "                                        maxval=tf.math.sqrt(2 * np.pi * 2 ** precision) / 2)\n",
    "        \n",
    "        init = log_prob(init_state)\n",
    "\n",
    "        s, m, std, a, rs = test_c.run_hmc(1, 0, init_state=init_state)\n",
    "        s_q, m_q, std_q, a_q, rs_q = test_q.run_hmc(1, 0, init_state=init_state)\n",
    "\n",
    "        classical.append(a)\n",
    "        quantum.append(a_q)\n",
    "        \n",
    "    return classical, quantum"
   ]
  },
  {
   "cell_type": "code",
   "execution_count": 6,
   "id": "18437066",
   "metadata": {},
   "outputs": [],
   "source": [
    "step_size = 0.07948701832532529\n",
    "trotter_time = 1.6141954191198948\n",
    "trotter_steps = 3\n",
    "precision = 5\n",
    "n = 2\n",
    "experiments = 100\n"
   ]
  },
  {
   "cell_type": "code",
   "execution_count": 7,
   "id": "46c3bc01",
   "metadata": {},
   "outputs": [
    {
     "name": "stdout",
     "output_type": "stream",
     "text": [
      "1e-05\n",
      "0.0001\n",
      "0.001\n",
      "0.01\n",
      "0.05\n",
      "0.1\n",
      "0.5\n",
      "1.0\n",
      "10.0\n",
      "100.0\n"
     ]
    }
   ],
   "source": [
    "temps = [0.00001, 0.0001, 0.001, 0.01, 0.05, 0.1, 0.5, 1.0, 10.0, 100.0]\n",
    "\n",
    "\n",
    "c = []\n",
    "q = []\n",
    "\n",
    "for temp in temps:\n",
    "    print(temp)\n",
    "    log_prob = double_well_log_prob(temp)\n",
    "    cc, qq = run_exp(trotter_time, trotter_steps, precision, n, log_prob, experiments, step_size)\n",
    "    c.append(cc)\n",
    "    q.append(qq)"
   ]
  },
  {
   "cell_type": "code",
   "execution_count": 12,
   "id": "43756c7f",
   "metadata": {},
   "outputs": [],
   "source": [
    "def plot_exp(c, q, temps):\n",
    "    cs_mean = np.mean(c, axis=1)\n",
    "    qs_mean = np.mean(q, axis=1)\n",
    "\n",
    "    cs_ci = 1.96 * np.std(c, axis=1)/np.sqrt(100)\n",
    "    qs_ci = 1.96 * np.std(q, axis=1)/np.sqrt(100)\n",
    "\n",
    "    fig, ax = plt.subplots(figsize=(5, 3))\n",
    "\n",
    "    ax.plot(temps, cs_mean, label='Classical')\n",
    "    ax.plot(temps, qs_mean, label='Quantum')\n",
    "\n",
    "    ax.fill_between(temps, (cs_mean - cs_ci), (cs_mean + cs_ci), color='b', alpha=.1)\n",
    "    ax.fill_between(temps, (qs_mean - qs_ci), (qs_mean + qs_ci), color='orange', alpha=.1)\n",
    "\n",
    "    plt.xscale(\"log\")\n",
    "    plt.xlabel(\"Temperature\")\n",
    "    plt.ylabel(\"Acceptance Probability\")\n",
    "    plt.legend()\n",
    "    plt.savefig(\"accept.svg\", format = 'svg', dpi=300,bbox_inches='tight')\n",
    "    plt.show()"
   ]
  },
  {
   "cell_type": "code",
   "execution_count": 13,
   "id": "402a8a6f",
   "metadata": {},
   "outputs": [
    {
     "data": {
      "image/png": "[encoded data removed]",
      "text/plain": [
       "<Figure size 360x216 with 1 Axes>"
      ]
     },
     "metadata": {
      "needs_background": "light"
     },
     "output_type": "display_data"
    }
   ],
   "source": [
    "plot_exp(c, q, temps)"
   ]
  },
  {
   "cell_type": "code",
   "execution_count": null,
   "id": "df7d1484",
   "metadata": {},
   "outputs": [],
   "source": []
  }
 ],
 "metadata": {
  "kernelspec": {
   "display_name": "Python 3 (ipykernel)",
   "language": "python",
   "name": "python3"
  },
  "language_info": {
   "codemirror_mode": {
    "name": "ipython",
    "version": 3
   },
   "file_extension": ".py",
   "mimetype": "text/x-python",
   "name": "python",
   "nbconvert_exporter": "python",
   "pygments_lexer": "ipython3",
   "version": "3.9.7"
  }
 },
 "nbformat": 4,
 "nbformat_minor": 5
}
